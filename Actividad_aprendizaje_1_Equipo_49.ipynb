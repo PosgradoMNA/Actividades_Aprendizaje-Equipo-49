{
 "cells": [
  {
   "cell_type": "markdown",
   "id": "f65627dc",
   "metadata": {},
   "source": [
    "# Afluencia diaria del Metro CDMX"
   ]
  },
  {
   "cell_type": "markdown",
   "id": "a903c62e",
   "metadata": {},
   "source": [
    "## Información publicada por la Secretaría de Movilidad (SEMOVI\n",
    "### Disponible en : https://datos.cdmx.gob.mx/dataset/afluencia-diaria-del-metro-cdmx¶"
   ]
  },
  {
   "cell_type": "markdown",
   "id": "86a5840c",
   "metadata": {},
   "source": [
    "#### La base de afluencia desglosada se refiere a la afluencia en el Organismo Público de Transporte STC Metro, separada por medio de acceso, los cuales son: Tarjeta Única de Movilidad Integrada, boleto y gratuidad, esta última se refiere al acceso gratuito para las personas adultos mayores, personas con discapacidad y/o niños menores de 5 años, de acuerdo a los requisitos establecidos por el Organismo."
   ]
  },
  {
   "cell_type": "markdown",
   "id": "d4bea420",
   "metadata": {},
   "source": [
    "#### Preguntas de investigación : \n",
    "\n",
    "#### 1. ¿Cuándo hay más gente viajando?\n",
    "#### 2. ¿Cuándo hay más gente viajando gratis?\n",
    "#### 3. ¿Qué estaciones tienen mayor afluencia?\n",
    "#### 4. ¿Qué dias son los más concurridos?\n",
    "#### 5. ¿Se ha reducido el pago con boleto?\n",
    "#### 6. ¿Qué efecto tiene la reducción de pagos con boleto?\n",
    "#### 7. ¿Qué estaciones tienen más viajes gratis?\n",
    "#### 8. ¿Hay indicios de pronta saturación en estaciones y si es así, cuándo sería?"
   ]
  },
  {
   "cell_type": "markdown",
   "id": "191a01c8",
   "metadata": {},
   "source": [
    "#### La Secretaría de Movilidad estaría interesada en este análisis, para prepara la cantidad de recursos a disponer por estación;  empleados (policías, personal de limpieza, taquilleros, etc.), boletos y papelería, contar con un plan en caso de saturación. También podría servir para que los usuarios pueda planear sus rutas al conocer los puntos con mayor afluencia"
   ]
  }
 ],
 "metadata": {
  "kernelspec": {
   "display_name": "Python 3 (ipykernel)",
   "language": "python",
   "name": "python3"
  },
  "language_info": {
   "codemirror_mode": {
    "name": "ipython",
    "version": 3
   },
   "file_extension": ".py",
   "mimetype": "text/x-python",
   "name": "python",
   "nbconvert_exporter": "python",
   "pygments_lexer": "ipython3",
   "version": "3.7.13"
  }
 },
 "nbformat": 4,
 "nbformat_minor": 5
}
